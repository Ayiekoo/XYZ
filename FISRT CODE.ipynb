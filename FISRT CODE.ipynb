{
  "nbformat": 4,
  "nbformat_minor": 0,
  "metadata": {
    "colab": {
      "provenance": []
    },
    "kernelspec": {
      "name": "python3",
      "display_name": "Python 3"
    },
    "language_info": {
      "name": "python"
    }
  },
  "cells": [
    {
      "cell_type": "code",
      "execution_count": 1,
      "metadata": {
        "colab": {
          "base_uri": "https://localhost:8080/"
        },
        "id": "pEb3ACBdHVm2",
        "outputId": "0e51e600-3d00-4a3d-ce6f-02011976e228"
      },
      "outputs": [
        {
          "output_type": "stream",
          "name": "stdout",
          "text": [
            "Hello, first python programming\n"
          ]
        }
      ],
      "source": [
        "print(\"Hello, first python programming\")"
      ]
    },
    {
      "cell_type": "code",
      "source": [
        "print(\"I want to be a data scientist\")"
      ],
      "metadata": {
        "colab": {
          "base_uri": "https://localhost:8080/"
        },
        "id": "XJQ8ywVLHmYd",
        "outputId": "2e157e73-e9ad-4093-f72f-be4e9d1bc5c5"
      },
      "execution_count": 2,
      "outputs": [
        {
          "output_type": "stream",
          "name": "stdout",
          "text": [
            "I want to be a data scientist\n"
          ]
        }
      ]
    }
  ]
}